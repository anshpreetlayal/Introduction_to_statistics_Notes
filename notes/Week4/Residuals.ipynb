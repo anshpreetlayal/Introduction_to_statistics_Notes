{
 "cells": [
  {
   "cell_type": "markdown",
   "metadata": {},
   "source": [
    "# Residual Plots\n",
    "\n",
    "- **What they do:** Residual plots show how much our predictions differ from the actual values.\n",
    "- **Why they matter:** They help us check if our predictions have patterns or errors.\n",
    "- **Ideal scenario:** Predictions should be scattered randomly around the zero line.\n",
    "- **Types of patterns:** \n",
    "  - *No Pattern:* Good, scattered randomly.\n",
    "  - *Curved Pattern:* Maybe a different model needed.\n",
    "  - *Fan-shaped or Cone-shaped:* Uneven prediction quality.\n",
    "\n",
    "- **Example:** Imagine predicting house prices using a model. If our predictions are all over the place and not random, it might mean our model isn't good enough.\n",
    "\n",
    "# Heteroscedasticity\n",
    "\n",
    "- **What it means:** Unequal spread of predictions (errors) in a model.\n",
    "- **Why it matters:** It messes with how reliable our model's predictions are.\n",
    "- **Problem:** Changes in predictions aren't consistent across different values.\n",
    "- **Effect:** Impacts how much we trust our predictions.\n",
    "\n",
    "- **Example:** In a house price prediction model, if the predictions are very different for cheap and expensive houses, it might mean our model doesn't work well for both.\n",
    "\n",
    "# Transformation\n",
    "\n",
    "- **What it does:** Changes data to fit better with our model.\n",
    "- **Why it's used:** Makes data easier to work with for more accurate predictions.\n",
    "- **How it helps:** It can make data easier to understand by making it look more 'normal'.\n",
    "- **Use cases:** Fixes issues like unequal spreads or weird shapes in data.\n",
    "\n",
    "- **Example:** If a set of data looks really bunched up at one end, transforming it might spread it out more evenly, making it easier to analyze.\n",
    "\n",
    "# Outliers and Influential Points\n",
    "\n",
    "- **Outliers:** Data points that are really different from others.\n",
    "  - **Effect:** They can mess up our predictions.\n",
    "- **Influential Points:** Points that really change our model.\n",
    "  - **Effect:** They can heavily impact our predictions or how we see relationships.\n",
    "\n",
    "- **Example:** In a study about studying hours and grades, if one student scores way higher with very little study time, they might hugely affect our understanding of the relationship between study time and grades.\n",
    "\n",
    "\n"
   ]
  }
 ],
 "metadata": {
  "language_info": {
   "name": "python"
  }
 },
 "nbformat": 4,
 "nbformat_minor": 2
}
