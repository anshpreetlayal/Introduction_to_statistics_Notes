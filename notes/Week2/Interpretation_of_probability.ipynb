{
 "cells": [
  {
   "cell_type": "markdown",
   "metadata": {},
   "source": [
    "# Interpretation of Probability\n",
    "\n",
    "Probability serves as a measure of uncertainty, quantifying the likelihood of events occurring in various contexts. Understanding the fundamental rules and interpretations of probability is crucial in decision-making, statistical analysis, and risk assessment.\n",
    "\n",
    "## Four Basic Rules of Probability\n",
    "\n",
    "### 1. Rule of Complement\n",
    "- **Explanation:** States that the probability of an event not occurring (denoted as ¬A or A') is equal to 1 minus the probability of the event occurring.\n",
    "- **Formula:** P(¬A) = 1 - P(A)\n",
    "- **Example:** If the probability of rain tomorrow is 0.3 (P(A) = 0.3), then the probability of no rain would be 0.7 (P(¬A) = 1 - 0.3 = 0.7).\n",
    "\n",
    "### 2. Addition Rule\n",
    "- **Explanation:** For mutually exclusive events (events that cannot occur simultaneously), the probability of the union of two events is the sum of their individual probabilities.\n",
    "- **Formula:** P(A or B) = P(A) + P(B), for mutually exclusive events.\n",
    "- **Example:** If P(A) = 0.4 (probability of event A) and P(B) = 0.5 (probability of event B), then P(A or B) = 0.4 + 0.5 = 0.9.\n",
    "\n",
    "### 3. Multiplication Rule\n",
    "- **Explanation:** The probability of the intersection of two independent events is the product of their individual probabilities.\n",
    "- **Formula:** P(A and B) = P(A) * P(B), for independent events.\n",
    "- **Example:** If P(A) = 0.6 (probability of event A) and P(B) = 0.7 (probability of event B), then P(A and B) = 0.6 * 0.7 = 0.42.\n",
    "\n",
    "### 4. Conditional Probability\n",
    "- **Explanation:** Conditional probability is the probability of an event A occurring given that event B has already occurred.\n",
    "- **Formula:** P(A | B) = P(A and B) / P(B)\n",
    "- **Example:** If the probability of getting heads on a fair coin toss (A) is 0.5 and getting tails after getting heads (B) is 0.5, then P(A | B) = P(A and B) / P(B) = 0.5 / 0.5 = 1.\n",
    "\n",
    "## Independence of Two Events\n",
    "- Events A and B are independent if the occurrence of one event does not affect the probability of the other.\n",
    "- Mathematically, P(A and B) = P(A) * P(B), indicating that the probability of both events occurring equals the product of their individual probabilities.\n",
    "\n",
    "## Computing Probability by Total Enumeration\n",
    "- **Explanation:** In scenarios with discrete outcomes, probability is computed by counting the favorable outcomes and dividing by the total number of outcomes.\n",
    "- **Formula:** P(A) = (Number of favorable outcomes for A) / (Total number of outcomes)\n",
    "- **Example:** If a bag contains 3 red balls and 5 blue balls, the probability of picking a red ball would be P(Red) = 3 / (3 + 5) = 3 / 8.\n",
    "\n",
    "Understanding these fundamental rules of probability and their applications is essential in various fields, aiding in making informed decisions and modeling uncertain events.\n"
   ]
  }
 ],
 "metadata": {
  "language_info": {
   "name": "python"
  }
 },
 "nbformat": 4,
 "nbformat_minor": 2
}
