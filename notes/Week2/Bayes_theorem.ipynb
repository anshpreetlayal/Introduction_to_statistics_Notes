{
 "cells": [
  {
   "cell_type": "markdown",
   "metadata": {},
   "source": [
    "# Bayes' Theorem\n",
    "\n",
    "Bayes' Theorem is a fundamental concept in probability theory that describes the probability of an event based on prior knowledge of conditions that might be related to the event. It provides a way to update beliefs or probabilities based on new evidence.\n",
    "\n",
    "## Bayes' Theorem Formula\n",
    "\n",
    "Bayes' Theorem is expressed as:\n",
    "\n",
    "P(A | B) = [P(B | A) * P(A)] / P(B)\n",
    "\n",
    "\n",
    "Where:\n",
    "- **P(A | B)** is the probability of event A occurring given that event B has occurred.\n",
    "- **P(B | A)** is the probability of event B occurring given that event A has occurred.\n",
    "- **P(A)** and **P(B)** are the probabilities of events A and B occurring independently.\n",
    "\n",
    "## Bayesian Analysis\n",
    "\n",
    "Bayesian analysis is a statistical approach that uses Bayes' Theorem to update probabilities as new information becomes available. It involves:\n",
    "  \n",
    "### Prior Probability\n",
    "- **Definition:** Initial beliefs or probabilities before considering new evidence.\n",
    "- **Symbol:** Represented as P(A), the probability of event A.\n",
    "\n",
    "### Likelihood\n",
    "- **Definition:** The probability of the evidence given the hypothesis.\n",
    "- **Symbol:** Represented as P(B | A), the probability of observing evidence B given that hypothesis A is true.\n",
    "\n",
    "### Posterior Probability\n",
    "- **Definition:** The updated probability after considering the new evidence.\n",
    "- **Symbol:** Represented as P(A | B), the probability of hypothesis A being true given the observed evidence B.\n",
    "\n",
    "### Bayesian Inference Steps\n",
    "1. Establish a prior probability based on existing knowledge or assumptions.\n",
    "2. Collect new evidence and compute the likelihood of the observed data given the hypothesis.\n",
    "3. Apply Bayes' Theorem to update the prior probability using the likelihood and compute the posterior probability.\n",
    "4. Reiterate the process as new evidence becomes available, updating beliefs or probabilities accordingly.\n",
    "\n",
    "## Applications of Bayesian Analysis\n",
    "\n",
    "- **Machine Learning:** Bayesian methods in machine learning use probabilistic models for classification, regression, and clustering tasks.\n",
    "- **Medical Diagnostics:** Bayesian analysis aids in diagnostic tests, updating probabilities of diseases given test results.\n",
    "- **Risk Assessment:** Bayesian inference helps assess and update probabilities in risk analysis and decision-making processes.\n"
   ]
  }
 ],
 "metadata": {
  "language_info": {
   "name": "python"
  }
 },
 "nbformat": 4,
 "nbformat_minor": 2
}
