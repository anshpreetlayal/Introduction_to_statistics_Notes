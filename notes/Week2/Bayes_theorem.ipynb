{
 "cells": [
  {
   "cell_type": "markdown",
   "metadata": {},
   "source": [
    "# Bayes' Theorem\n",
    "\n",
    "Bayes' Theorem is a fundamental concept in probability theory that describes the probability of an event based on prior knowledge of conditions that might be related to the event. It provides a way to update beliefs or probabilities based on new evidence.\n",
    "\n",
    "## Bayes' Theorem Formula\n",
    "\n",
    "Bayes' Theorem is expressed as:\n",
    "\n",
    "P(A | B) = [P(B | A) * P(A)] / P(B)\n",
    "\n",
    "\n"
   ]
  }
 ],
 "metadata": {
  "language_info": {
   "name": "python"
  }
 },
 "nbformat": 4,
 "nbformat_minor": 2
}
