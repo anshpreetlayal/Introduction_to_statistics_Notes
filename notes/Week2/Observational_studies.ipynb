{
 "cells": [
  {
   "cell_type": "markdown",
   "metadata": {},
   "source": [
    "# Observational Studies\n",
    "\n",
    "## Definition\n",
    "Observational studies are research methods where researchers observe subjects and measure variables of interest without any intervention or manipulation by the researchers.\n",
    "\n",
    "## Types of Observational Studies\n",
    "\n",
    "### Descriptive Studies\n",
    "- Describes characteristics of a population or phenomenon without influencing it.\n",
    "- Example: Cross-sectional studies examining different age groups' prevalence of a certain disease at a specific point in time.\n",
    "\n",
    "### Analytical Studies\n",
    "- Investigates associations or relationships between variables.\n",
    "- Example: Case-control studies comparing individuals with a certain condition to those without, exploring potential risk factors.\n",
    "\n",
    "## Advantages\n",
    "- Reflects real-world scenarios as it observes subjects in their natural settings.\n",
    "- Useful for studying rare or unethical situations where manipulation isn't feasible.\n",
    "\n"
   ]
  }
 ],
 "metadata": {
  "language_info": {
   "name": "python"
  }
 },
 "nbformat": 4,
 "nbformat_minor": 2
}
