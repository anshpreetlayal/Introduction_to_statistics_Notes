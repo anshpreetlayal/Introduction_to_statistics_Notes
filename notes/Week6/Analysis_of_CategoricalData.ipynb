{
 "cells": [
  {
   "cell_type": "markdown",
   "metadata": {},
   "source": [
    "# Chi-Square Goodness of Fit Test\n",
    "\n",
    "## Introduction\n",
    "The Chi-Square Goodness of Fit test is used to determine whether the distribution of categorical data fits a specified distribution.\n",
    "\n",
    "## Hypotheses\n",
    "- Null Hypothesis (H0): The observed frequencies match the expected frequencies.\n",
    "- Alternative Hypothesis (H1): There is a significant difference between observed and expected frequencies.\n",
    "\n",
    "## Formula\n",
    "\\[ \\chi^2 = \\sum \\frac{{(O_i - E_i)^2}}{{E_i}} \\]\n",
    "\n",
    "## Example\n",
    "Suppose you roll a fair six-sided die 60 times and want to test if the outcomes follow an equal distribution.\n",
    "\n",
    "### Observed Frequencies\n",
    "- 1: 12 times\n",
    "- 2: 10 times\n",
    "- 3: 8 times\n",
    "- 4: 15 times\n",
    "- 5: 9 times\n",
    "- 6: 6 times\n",
    "\n",
    "### Expected Frequencies (for a fair die)\n",
    "- 1: 10 times\n",
    "- 2: 10 times\n",
    "- 3: 10 times\n",
    "- 4: 10 times\n",
    "- 5: 10 times\n",
    "- 6: 10 times\n",
    "\n",
    "## Code\n",
    "```python\n",
    "import scipy.stats as stats\n",
    "\n",
    "observed = [12, 10, 8, 15, 9, 6]\n",
    "expected = [10, 10, 10, 10, 10, 10]\n",
    "\n",
    "chi2_stat, p_value = stats.chisquare(f_obs=observed, f_exp=expected)\n",
    "print(f\"Chi-Square Statistic: {chi2_stat}\\nP-value: {p_value}\")\n"
   ]
  }
 ],
 "metadata": {
  "language_info": {
   "name": "python"
  }
 },
 "nbformat": 4,
 "nbformat_minor": 2
}
