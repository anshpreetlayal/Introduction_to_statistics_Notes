{
 "cells": [
  {
   "cell_type": "markdown",
   "metadata": {},
   "source": [
    "# Normal Curve\n",
    "\n",
    "The normal curve, also known as the Gaussian distribution or bell curve, is a continuous probability distribution characterized by its shape, which resembles a symmetric bell shape.\n",
    "\n",
    "## Properties of the Normal Curve\n",
    "\n",
    "- **Symmetry:** The curve is symmetric around its mean, with equal areas on both sides.\n",
    "- **Central Tendency:** The mean, median, and mode are all equal, located at the center of the curve.\n",
    "- **Standard Deviations:** The curve describes the distribution of data points around the mean using standard deviations.\n",
    "\n",
    "## Empirical Rule (68-95-99.7 Rule)\n",
    "\n",
    "The empirical rule provides insights into the distribution of data in a normal curve:\n",
    "\n",
    "- Approximately 68% of the data falls within one standard deviation of the mean.\n",
    "- Roughly 95% of the data falls within two standard deviations of the mean.\n",
    "- Almost 99.7% of the data falls within three standard deviations of the mean.\n",
    "\n",
    "## Standardizing Data\n",
    "\n",
    "- **Definition:** Standardizing data involves transforming values to a standard scale, typically expressed as z-scores.\n",
    "- **Formula:** z = (x - μ) / σ, where x is the data point, μ is the mean, and σ is the standard deviation.\n",
    "- **Purpose:** Standardization allows comparison of values from different distributions on a common scale, making it easier to interpret and analyze.\n",
    "\n",
    "## Standard Normal Curve\n",
    "\n",
    "- **Definition:** The standard normal curve is a specific normal distribution with a mean (μ) of 0 and a standard deviation (σ) of 1.\n",
    "- **Standardization:** All values are transformed into z-scores following the formula z = (x - μ) / σ, where μ = 0 and σ = 1.\n",
    "\n",
    "## Normal Approximation\n",
    "\n",
    "- **Definition:** Normal approximation estimates probabilities for a non-normal distribution by applying the properties of the standard normal curve.\n",
    "- **Conditions:** Effective when the sample size is sufficiently large due to the Central Limit Theorem.\n",
    "\n",
    "## Computing Percentiles with Normal Approximation\n",
    "\n",
    "- **Approach:** To find percentiles, convert the value to a z-score using standardization, then use z-tables or software to find the corresponding percentile.\n",
    "- **Example:** If a value x corresponds to a z-score of 1.5, it means the data point is 1.5 standard deviations above the mean.\n",
    "\n",
    "\n"
   ]
  }
 ],
 "metadata": {
  "language_info": {
   "name": "python"
  }
 },
 "nbformat": 4,
 "nbformat_minor": 2
}
