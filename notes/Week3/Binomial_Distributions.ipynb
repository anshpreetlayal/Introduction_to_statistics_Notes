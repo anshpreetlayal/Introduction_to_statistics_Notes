{
 "cells": [
  {
   "cell_type": "markdown",
   "metadata": {},
   "source": [
    "# Binomial Setting\n",
    "\n",
    "- **Definition:** The binomial setting is a specific scenario in probability characterized by two mutually exclusive outcomes (success/failure), a fixed number of trials, independence between trials, and a constant probability of success.\n",
    "- **Components:**\n",
    "  - Fixed number of trials (n).\n",
    "  - Independent trials.\n",
    "  - Binary outcomes (success/failure).\n",
    "  - Constant probability of success (p).\n",
    "\n",
    "# Binomial Coefficient\n",
    "\n",
    "- **Definition:** The binomial coefficient (denoted as C(n, k) or nCk) represents the number of ways to choose k successes from n trials without considering their order.\n",
    "- **Formula:** C(n, k) = n! / (k! * (n - k)!), where n! denotes factorial (n factorial) - the product of all positive integers up to n.\n",
    "- **Example:** Suppose we want to select 3 items from 7 distinct items. The number of ways to choose these 3 items can be calculated using the binomial coefficient as C(7, 3) = 7! / (3! * (7 - 3)!) = 35 ways.\n",
    "\n",
    "# The Binomial Formula\n",
    "\n",
    "- **Binomial Distribution Formula:** Provides the probability distribution for the number of successes (k) in n independent trials with a constant probability of success (p).\n",
    "- **Formula:** P(X = k) = C(n, k) * p^k * (1 - p)^(n - k), where P(X = k) is the probability of k successes in n trials, p is the probability of success, and (1 - p) is the probability of failure.\n",
    "- **Example:** Consider flipping a fair coin 5 times. The probability of getting exactly 3 heads (successes) can be calculated using the binomial formula as P(X = 3) = C(5, 3) * (0.5)^3 * (0.5)^(5 - 3) = 10 * 0.125 * 0.125 = 0.3125.\n",
    "\n",
    "# Normal Approximation to the Binomial\n",
    "\n",
    "- **Normal Approximation:** A method to approximate the binomial distribution using the normal distribution when the number of trials (n) is large.\n",
    "- **Conditions for Approximation:** For the binomial distribution to be approximately normal: n * p ≥ 10 and n * (1 - p) ≥ 10, ensuring a sufficiently large sample size.\n",
    "- **Usage Example:** Suppose you conduct 200 trials with a success probability of 0.2. To approximate the probability of at least 30 successes, you can use the normal distribution by calculating the mean (μ = n * p = 200 * 0.2 = 40) and standard deviation (σ = √(n * p * (1 - p)) = √(200 * 0.2 * 0.8) = √(32) ≈ 5.66). Then, you'd calculate the z-score for 29.5 (corresponding to 30 successes) and use a standard normal distribution table to find the probability.\n",
    "\n",
    "# Sampling Without Replacement\n",
    "\n",
    "- **Sampling Without Replacement:** Refers to selecting items from a finite population without returning the selected items back into the population.\n",
    "- **Consequences:** Subsequent selections become dependent on previous ones, impacting the probabilities of outcomes due to changes in the population size and composition.\n",
    "- **Example:** If you're drawing cards from a deck without replacement, the probability of drawing an Ace changes after each draw as the total number of cards and the number of Aces in the deck change.\n",
    "\n",
    "\n"
   ]
  }
 ],
 "metadata": {
  "language_info": {
   "name": "python"
  }
 },
 "nbformat": 4,
 "nbformat_minor": 2
}
