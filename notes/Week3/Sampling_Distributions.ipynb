{
 "cells": [
  {
   "cell_type": "markdown",
   "metadata": {},
   "source": [
    "# Parameter and Statistic\n",
    "\n",
    "- **Parameter:** A numerical characteristic that describes a population. It's typically unknown and denoted by Greek letters (e.g., population mean μ, population standard deviation σ).\n",
    "- **Statistic:** A numerical characteristic that describes a sample. It's calculated from sample data and used to estimate population parameters.\n",
    "\n",
    "# Expected Value and Standard Error\n",
    "\n",
    "- **Expected Value (EV):** Represents the theoretical long-term average of a random variable's outcomes. For a discrete random variable, EV is calculated as the sum of all possible values multiplied by their respective probabilities.\n",
    "- **Standard Error (SE):** Measures the variability or precision of a statistic. It indicates the standard deviation of the sampling distribution of a statistic. For the sample mean, SE = σ / √(n), where σ is the population standard deviation and n is the sample size.\n",
    "\n",
    "# Expected Value and Standard Error of the SUM\n",
    "\n",
    "- **Expected Value of SUM:** The sum of the expected values of individual random variables.\n",
    "- **Standard Error of SUM:** When summing random variables, the standard error of the sum is the square root of the sum of the variances of individual variables if they are independent.\n",
    "\n",
    "# Percentages and When Simulating\n",
    "\n",
    "- **Percentages:** Represent parts of a whole as proportions multiplied by 100. They offer a relative measure and are calculated as (Part/Whole) * 100.\n",
    "- **Simulating Percentages:** In simulations, percentages are used to depict proportions or distributions of outcomes in various scenarios, aiding in modeling real-world situations.\n",
    "\n",
    "# The Square Root Law\n",
    "\n",
    "- **Square Root Law:** Indicates that the standard deviation of the sum or average of independent random variables is approximately the square root of the number of variables being summed or averaged.\n",
    "- **Formula:** If X₁, X₂,..., Xn are independent random variables, the standard deviation of their sum (or average) is approximately √(n) times the standard deviation of a single variable.\n",
    "\n",
    "# The Sampling Distribution\n",
    "\n",
    "- **Sampling Distribution:** A theoretical distribution of a statistic obtained by considering all possible samples of a specific size from a population.\n",
    "- **Central Limit Theorem (CLT):** Asserts that the sampling distribution of the sample mean approaches a normal distribution as the sample size increases, regardless of the population distribution.\n",
    "\n",
    "# Three Histograms\n",
    "\n",
    "- **Histograms:** Visual representations showing the distribution of data by grouping it into intervals or bins and displaying the frequency of observations in each bin.\n",
    "- **Three Histograms Scenario:** Comparing or visualizing three different datasets or distributions using histograms to illustrate their shapes, central tendencies, and dispersions.\n",
    "\n"
   ]
  }
 ],
 "metadata": {
  "language_info": {
   "name": "python"
  }
 },
 "nbformat": 4,
 "nbformat_minor": 2
}
