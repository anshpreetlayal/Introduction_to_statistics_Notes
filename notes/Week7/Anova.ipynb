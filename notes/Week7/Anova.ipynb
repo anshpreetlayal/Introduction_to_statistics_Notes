{
 "cells": [
  {
   "cell_type": "markdown",
   "metadata": {},
   "source": [
    "# One-way Analysis of Variance (ANOVA)\n",
    "\n",
    "## Introduction\n",
    "One-way Analysis of Variance (ANOVA) is a statistical technique used to compare the means of three or more groups to determine whether there are any statistically significant differences among them. It is an extension of the t-test for more than two groups.\n",
    "\n",
    "## Hypotheses\n",
    "- Null Hypothesis (H0): The means of all groups are equal.\n",
    "- Alternative Hypothesis (H1): At least one group mean is different from the others.\n",
    "\n",
    "## Assumptions\n",
    "- The populations from which the samples are drawn should be normally distributed.\n",
    "- Homogeneity of variances (the variability within each group should be roughly equal).\n",
    "- Independence of observations.\n",
    "\n",
    "## Formula\n",
    "The F-statistic in ANOVA is calculated using the ratio of the variance between groups to the variance within groups.\n",
    "\n",
    "\\[ F = \\frac{{\\text{Between-group variance}}}{{\\text{Within-group variance}}} \\]\n",
    "\n",
    "## Example\n",
    "Suppose we have three different teaching methods, and we want to determine if there is a significant difference in the exam scores of students taught with these methods.\n",
    "\n",
    "### Code Example\n",
    "```python\n",
    "import scipy.stats as stats\n",
    "\n",
    "# Sample data for each teaching method\n",
    "method1_scores = [75, 82, 88, 78, 90]\n",
    "method2_scores = [68, 72, 60, 65, 75]\n",
    "method3_scores = [80, 85, 88, 92, 78]\n",
    "\n",
    "# Perform one-way ANOVA\n",
    "f_statistic, p_value = stats.f_oneway(method1_scores, method2_scores, method3_scores)\n",
    "\n",
    "print(f\"F-Statistic: {f_statistic}\\nP-value: {p_value}\")\n"
   ]
  }
 ],
 "metadata": {
  "language_info": {
   "name": "python"
  }
 },
 "nbformat": 4,
 "nbformat_minor": 2
}
