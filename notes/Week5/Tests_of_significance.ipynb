{
 "cells": [
  {
   "cell_type": "markdown",
   "metadata": {},
   "source": [
    "# Testing Hypotheses\n",
    "\n",
    "- **Objective:** Testing hypotheses involves making an assumption about a population parameter and using sample data to assess whether this assumption holds.\n",
    "- **Hypothesis Testing Steps:**\n",
    "  1. **Formulate Hypotheses:** Establish a null hypothesis (H0) and an alternative hypothesis (H1).\n",
    "  2. **Select a Test:** Choose an appropriate statistical test based on the nature of the data and hypotheses.\n",
    "  3. **Collect Data:** Gather data from a sample.\n",
    "  4. **Analyze Data:** Use statistical methods to assess whether the evidence contradicts the null hypothesis.\n",
    "  5. **Draw Conclusion:** Based on the evidence, either reject or fail to reject the null hypothesis.\n",
    "\n",
    "# Test Statistic\n",
    "\n",
    "- **Definition:** A test statistic is a numerical value computed from sample data that is used to decide whether to reject the null hypothesis.\n",
    "- **Purpose:** It measures the strength of the evidence against the null hypothesis.\n",
    "- **Examples:** For a Z-test, the test statistic is the Z-score, while for a T-test, it's the T-value.\n",
    "\n",
    "# P-values\n",
    "\n",
    "- **Definition:** The p-value represents the probability of obtaining observed results or more extreme results when the null hypothesis is true.\n",
    "- **Interpretation:** A lower p-value indicates stronger evidence against the null hypothesis.\n",
    "- **Decision Criterion:** If the p-value is less than the significance level (alpha), typically 0.05, we reject the null hypothesis.\n",
    "\n",
    "# The T-test\n",
    "\n",
    "- **Purpose:** Compares means between two groups to determine if they are significantly different.\n",
    "- **When to Use:** When dealing with small sample sizes or when the population standard deviation is unknown.\n",
    "- **Types:** One-sample T-test, Two-sample T-test (independent or paired).\n",
    "\n",
    "# The Z-test\n",
    "\n",
    "- **Purpose:** Compares means between two groups, similar to the T-test but applicable under specific conditions.\n",
    "- **When to Use:** Typically used for large sample sizes (usually >30) when the population standard deviation is known.\n",
    "- **Comparison with T-test:** T-test is more appropriate for small samples or when the population standard deviation is unknown.\n",
    "\n",
    "# Statistical Significance vs. Importance\n",
    "\n",
    "- **Statistical Significance:** Indicates whether an observed effect is likely due to a real relationship or mere chance, as measured by p-values.\n",
    "- **Statistical Importance:** Refers to the practical or substantive significance of the observed effect in the real world. It might not always align with statistical significance.\n",
    "\n",
    "# Two-Sample Z-test\n",
    "\n",
    "- **Purpose:** Compares the means of two independent groups to assess if they are significantly different.\n",
    "- **Procedure:** It examines whether the difference between the sample means is large enough to be unlikely due to chance.\n",
    "- **Example:** Comparing the average test scores of two different teaching methods among students.\n",
    "\n",
    "# Matched Pair T-test\n",
    "\n",
    "- **Purpose:** Assesses whether the means of two paired or related groups are significantly different.\n",
    "- **Procedure:** It considers the differences between paired observations and tests if these differences are significantly different from zero.\n",
    "- **Example:** Testing if a new drug has a different effect than a placebo by comparing patients' responses before and after treatment.\n",
    "\n",
    "\n"
   ]
  }
 ],
 "metadata": {
  "language_info": {
   "name": "python"
  }
 },
 "nbformat": 4,
 "nbformat_minor": 2
}
