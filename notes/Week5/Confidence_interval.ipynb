{
 "cells": [
  {
   "cell_type": "markdown",
   "metadata": {},
   "source": [
    "# Confidence Intervals\n",
    "\n",
    "- **What they are:** Confidence intervals estimate a range of values within which we believe the true population parameter lies, such as the mean or proportion.\n",
    "- **Why they matter:** They help quantify the uncertainty in our estimates based on sample data.\n",
    "- **Calculation:** Typically, a confidence interval is calculated as the point estimate (e.g., sample mean) plus and minus a margin of error, determined by the standard error and the desired level of confidence.\n",
    "- **Interpretation:** A 95% confidence interval means that if we were to take 100 different samples and calculate confidence intervals for each, we would expect 95 of those intervals to contain the true population parameter.\n",
    "\n",
    "# Confidence Intervals via the Central Limit Theorem\n",
    "\n",
    "- **Using the CLT:** The Central Limit Theorem states that the distribution of sample means approaches a normal distribution as the sample size increases, regardless of the population distribution.\n",
    "- **Application:** When the sample size is sufficiently large (usually >30), we can use the normal distribution to estimate the population parameter's range within a certain confidence level.\n",
    "- **Example:** If we measure the average height of 1000 people and find it to be 170 cm, we can use the CLT to create a 95% confidence interval to estimate the true average height for the entire population.\n",
    "\n",
    "# The Bootstrap Principle\n",
    "\n",
    "- **What it is:** Bootstrapping is a resampling technique where we repeatedly sample with replacement from our observed data to create many \"fake\" datasets of the same size as the original.\n",
    "- **Procedure:** We compute the statistic of interest (e.g., mean, median) for each bootstrapped dataset.\n",
    "- **Benefits:** Helps in estimating the variability and uncertainty associated with our sample statistic without relying on assumptions about the population's distribution.\n",
    "- **Example:** If we have data on 1000 people's incomes, bootstrapping helps us create numerous simulated datasets to estimate the variability of the sample mean income and its uncertainty.\n",
    "\n",
    "# Estimating Standard Error with the Bootstrap Principle\n",
    "\n",
    "- **Standard Error:** Measures the variability or standard deviation of sample statistics (e.g., sample mean) calculated from multiple samples.\n",
    "- **Bootstrap for Standard Error:** Involves using bootstrapping to repeatedly sample from the data, calculating the sample statistic each time, and then computing the standard deviation of these statistics.\n",
    "- **Purpose:** Provides an estimate of how much our sample statistic might vary if we were to repeatedly sample from the population.\n",
    "- **Example:** By bootstrapping, we can estimate the standard error of the sample mean height from multiple bootstrap samples, giving us an idea of how much the mean height might vary in different samples.\n",
    "\n"
   ]
  }
 ],
 "metadata": {
  "language_info": {
   "name": "python"
  }
 },
 "nbformat": 4,
 "nbformat_minor": 2
}
